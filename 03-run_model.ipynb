{
 "cells": [
  {
   "cell_type": "code",
   "execution_count": 1,
   "metadata": {},
   "outputs": [],
   "source": [
    "from fastai.vision import *"
   ]
  },
  {
   "cell_type": "code",
   "execution_count": 2,
   "metadata": {},
   "outputs": [],
   "source": [
    "path = Path(r'C:\\Users\\samir\\Desktop\\AI\\whatsapp_organizer')"
   ]
  },
  {
   "cell_type": "code",
   "execution_count": 4,
   "metadata": {},
   "outputs": [],
   "source": [
    "models_dir = path/'models'\n",
    "whatsapp_dir = path/'whatsapp'\n",
    "output_dir = path/'output'"
   ]
  },
  {
   "cell_type": "code",
   "execution_count": 5,
   "metadata": {},
   "outputs": [],
   "source": [
    "for folder in ['Greetings', 'People', 'Screenshots']:\n",
    "    dest = output_dir/folder\n",
    "    dest.mkdir(parents=True, exist_ok=True)"
   ]
  },
  {
   "cell_type": "code",
   "execution_count": 18,
   "metadata": {},
   "outputs": [],
   "source": [
    "learn = load_learner(models_dir, 'whatsapp_cleaner_stage-1.pkl')"
   ]
  },
  {
   "cell_type": "code",
   "execution_count": 7,
   "metadata": {},
   "outputs": [
    {
     "data": {
      "text/plain": [
       "[WindowsPath('C:/Users/samir/Desktop/AI/whatsapp_organizer/whatsapp/IMG-20171231-WA0000.jpg'),\n",
       " WindowsPath('C:/Users/samir/Desktop/AI/whatsapp_organizer/whatsapp/IMG-20171231-WA0001.jpg'),\n",
       " WindowsPath('C:/Users/samir/Desktop/AI/whatsapp_organizer/whatsapp/IMG-20171231-WA0002.jpg'),\n",
       " WindowsPath('C:/Users/samir/Desktop/AI/whatsapp_organizer/whatsapp/IMG-20171231-WA0003.jpg'),\n",
       " WindowsPath('C:/Users/samir/Desktop/AI/whatsapp_organizer/whatsapp/IMG-20171231-WA0004.jpg'),\n",
       " WindowsPath('C:/Users/samir/Desktop/AI/whatsapp_organizer/whatsapp/IMG-20171231-WA0005.jpg'),\n",
       " WindowsPath('C:/Users/samir/Desktop/AI/whatsapp_organizer/whatsapp/IMG-20171231-WA0006.jpg'),\n",
       " WindowsPath('C:/Users/samir/Desktop/AI/whatsapp_organizer/whatsapp/IMG-20171231-WA0012.jpg'),\n",
       " WindowsPath('C:/Users/samir/Desktop/AI/whatsapp_organizer/whatsapp/IMG-20171231-WA0013.jpg'),\n",
       " WindowsPath('C:/Users/samir/Desktop/AI/whatsapp_organizer/whatsapp/IMG-20171231-WA0014.jpg')]"
      ]
     },
     "execution_count": 7,
     "metadata": {},
     "output_type": "execute_result"
    }
   ],
   "source": [
    "whatsapp_dir.ls()[:10]"
   ]
  },
  {
   "cell_type": "code",
   "execution_count": 20,
   "metadata": {},
   "outputs": [],
   "source": [
    "import os\n",
    "\n",
    "for image_path in whatsapp_dir.ls()[:10]:\n",
    "    test_image = open_image(fn=image_path)\n",
    "    pred_class,pred_idx,outputs = learn.predict(test_image)\n",
    "    if pred_class.__str__() == 'Greetings':\n",
    "        os.rename(image_path, output_dir/'Greetings'/whatsapp_dir.ls()[0].name)\n",
    "    elif pred_class.__str__() == 'People':\n",
    "        os.rename(image_path, output_dir/'People'/whatsapp_dir.ls()[0].name)\n",
    "    elif pred_class.__str__() == 'Screenshots':\n",
    "        os.rename(image_path, output_dir/'Screenshots'/whatsapp_dir.ls()[0].name)\n",
    "    else:\n",
    "        pass"
   ]
  },
  {
   "cell_type": "code",
   "execution_count": null,
   "metadata": {},
   "outputs": [],
   "source": []
  }
 ],
 "metadata": {
  "kernelspec": {
   "display_name": "Python 3",
   "language": "python",
   "name": "python3"
  },
  "language_info": {
   "codemirror_mode": {
    "name": "ipython",
    "version": 3
   },
   "file_extension": ".py",
   "mimetype": "text/x-python",
   "name": "python",
   "nbconvert_exporter": "python",
   "pygments_lexer": "ipython3",
   "version": "3.7.4"
  }
 },
 "nbformat": 4,
 "nbformat_minor": 2
}
