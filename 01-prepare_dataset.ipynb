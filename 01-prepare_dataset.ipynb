{
 "cells": [
  {
   "cell_type": "markdown",
   "metadata": {},
   "source": [
    "# WhatsApp Organizer\n",
    "\n",
    "## 1- Data Preperation"
   ]
  },
  {
   "cell_type": "code",
   "execution_count": 1,
   "metadata": {},
   "outputs": [],
   "source": [
    "# loading the fastai library\n",
    "from fastai.vision import *"
   ]
  },
  {
   "cell_type": "markdown",
   "metadata": {},
   "source": [
    "#### Setting the Project Working Directory"
   ]
  },
  {
   "cell_type": "code",
   "execution_count": 2,
   "metadata": {},
   "outputs": [],
   "source": [
    "path = Path(r'C:\\Users\\samir\\Desktop\\AI\\whatsapp_organizer')"
   ]
  },
  {
   "cell_type": "code",
   "execution_count": 3,
   "metadata": {},
   "outputs": [],
   "source": [
    "# Dateset Direcory for Training Data\n",
    "dataset_dir = path/'datasets'\n",
    "dataset_dir.mkdir(parents=True, exist_ok=True)\n",
    "# Model Directory for Saving & Loading the model\n",
    "models_dir = path/'models'\n",
    "models_dir.mkdir(parents=True, exist_ok=True)\n",
    "# Output Directory for the organized results\n",
    "output_dir = path/'output'\n",
    "output_dir.mkdir(parents=True, exist_ok=True)\n",
    "# URLs direcotry for downloading the training data\n",
    "urls_dir = path/'urls'\n",
    "urls_dir.mkdir(parents=True, exist_ok=True)"
   ]
  },
  {
   "cell_type": "markdown",
   "metadata": {},
   "source": [
    "#### Downloading the training images"
   ]
  },
  {
   "cell_type": "code",
   "execution_count": 4,
   "metadata": {},
   "outputs": [],
   "source": [
    "for file, folder in [('greetings.txt', 'Greetings'), ('people.txt', 'People'), ('screenshots.txt', 'Screenshots')]:\n",
    "    dest = dataset_dir/folder\n",
    "    dest.mkdir(parents=True, exist_ok=True)\n",
    "    download_images(path/'urls'/file, dest, max_pics=20000)"
   ]
  },
  {
   "cell_type": "markdown",
   "metadata": {},
   "source": [
    "#### Verify and delete invalid images"
   ]
  },
  {
   "cell_type": "code",
   "execution_count": 5,
   "metadata": {},
   "outputs": [],
   "source": [
    "for folder in ['Greetings', 'People', 'Screenshots']:\n",
    "    print(folder)\n",
    "    verify_images(path/'datasets'/folder, delete=True, max_size=500)"
   ]
  },
  {
   "cell_type": "code",
   "execution_count": null,
   "metadata": {},
   "outputs": [],
   "source": []
  }
 ],
 "metadata": {
  "kernelspec": {
   "display_name": "Python 3",
   "language": "python",
   "name": "python3"
  },
  "language_info": {
   "codemirror_mode": {
    "name": "ipython",
    "version": 3
   },
   "file_extension": ".py",
   "mimetype": "text/x-python",
   "name": "python",
   "nbconvert_exporter": "python",
   "pygments_lexer": "ipython3",
   "version": "3.7.4"
  }
 },
 "nbformat": 4,
 "nbformat_minor": 2
}
